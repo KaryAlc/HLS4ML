{
 "cells": [
  {
   "cell_type": "markdown",
   "id": "005ae126",
   "metadata": {},
   "source": [
    "# Parte 7c: Validación\n",
    "\n",
    "¡Hemos ejecutado la inferencia de la NN en la pynq-z2! Ahora podemos copiar el `y_hw.npy` de vuelta al host que hemos estado utilizando para el entrenamiento y la síntesis, y hacer un gráfico final para verificar que la salida que tomamos en la placa es la esperada.\n",
    "\n",
    "El comando para copiarlo de vuelta es\n",
    "\n",
    "```bash\n",
    "scp xilinx@192.168.2.99:~/jupyter_notebooks/y_hw.npy model_3/\n",
    "```"
   ]
  },
  {
   "cell_type": "code",
   "execution_count": null,
   "id": "fee790be",
   "metadata": {},
   "outputs": [],
   "source": [
    "import matplotlib.pyplot as plt\n",
    "import numpy as np\n",
    "import plotting\n",
    "\n",
    "%matplotlib inline\n",
    "from sklearn.metrics import accuracy_score\n",
    "\n",
    "y_hw = np.load('model_3/y_hw.npy')\n",
    "y_test = np.load('y_test.npy')\n",
    "classes = np.load('classes.npy', allow_pickle=True)\n",
    "y_hls = np.load('model_3/y_hls.npy')\n",
    "y_qkeras = np.load('model_3/y_qkeras.npy')\n",
    "\n",
    "print(\"Accuracy QKeras, CPU:     {}\".format(accuracy_score(np.argmax(y_test, axis=1), np.argmax(y_qkeras, axis=1))))\n",
    "print(\"Accuracy hls4ml, CPU: {}\".format(accuracy_score(np.argmax(y_test, axis=1), np.argmax(y_hls, axis=1))))\n",
    "print(\"Accuracy hls4ml, pynq-z2: {}\".format(accuracy_score(np.argmax(y_test, axis=1), np.argmax(y_hw, axis=1))))\n",
    "\n",
    "fig, ax = plt.subplots(figsize=(9, 9))\n",
    "_ = plotting.makeRoc(y_test, y_qkeras, classes, linestyle='-')\n",
    "plt.gca().set_prop_cycle(None)  # reset the colors\n",
    "_ = plotting.makeRoc(y_test, y_hls, classes, linestyle='--')\n",
    "plt.gca().set_prop_cycle(None)  # reset the colors\n",
    "_ = plotting.makeRoc(y_test, y_hw, classes, linestyle='-.')\n",
    "\n",
    "from matplotlib.lines import Line2D\n",
    "\n",
    "lines = [Line2D([0], [0], ls='-'), Line2D([0], [0], ls='--'), Line2D([0], [0], ls='-.')]\n",
    "from matplotlib.legend import Legend\n",
    "\n",
    "leg = Legend(ax, lines, labels=['QKeras, CPU', 'hls4ml, CPU', 'hls4ml, pynq-z2'], loc='lower right', frameon=False)\n",
    "ax.add_artist(leg)"
   ]
  }
 ],
 "metadata": {
  "kernelspec": {
   "display_name": "Python 3 (ipykernel)",
   "language": "python",
   "name": "python3"
  },
  "language_info": {
   "codemirror_mode": {
    "name": "ipython",
    "version": 3
   },
   "file_extension": ".py",
   "mimetype": "text/x-python",
   "name": "python",
   "nbconvert_exporter": "python",
   "pygments_lexer": "ipython3",
   "version": "3.10.4"
  }
 },
 "nbformat": 4,
 "nbformat_minor": 5
}
