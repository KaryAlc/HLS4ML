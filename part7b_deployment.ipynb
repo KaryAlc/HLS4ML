{
 "cells": [
  {
   "cell_type": "markdown",
   "id": "033cc4d9",
   "metadata": {},
   "source": [
    "# Parte 7b: Implementación en PYNQ-Z2\n",
    "\n",
    "La siguiente sección es el código que se ejecutará en el cuaderno Jupyter de la pynq-z2 para realizar la inferencia de la NN.\n",
    "\n",
    "¡Las siguientes celdas están destinadas a ejecutarse en una pynq-z2, no se ejecutarán en el servidor utilizado para entrenar y sintetizar modelos!\n",
    "\n",
    "Primero, importa nuestra clase `Overlay` del controlador. También cargaremos los datos de prueba."
   ]
  },
  {
   "cell_type": "code",
   "execution_count": null,
   "id": "89c67e4f",
   "metadata": {},
   "outputs": [],
   "source": [
    "from axi_stream_driver import NeuralNetworkOverlay\n",
    "import numpy as np\n",
    "\n",
    "X_test = np.load('X_test.npy')\n",
    "y_test = np.load('y_test.npy')"
   ]
  },
  {
   "cell_type": "markdown",
   "id": "551c5cd6",
   "metadata": {},
   "source": [
    "Crea un objeto `NeuralNetworkOverlay`. Esto descargará el `Overlay` (bitfile) en la PL de la pynq-z2. Proporcionamos el `X_test.shape` y `y_test.shape` para asignar algunos búferes para la transferencia de datos."
   ]
  },
  {
   "cell_type": "code",
   "execution_count": null,
   "id": "cfb786f3",
   "metadata": {},
   "outputs": [],
   "source": [
    "nn = NeuralNetworkOverlay('hls4ml_nn.bit', X_test.shape, y_test.shape)"
   ]
  },
  {
   "cell_type": "markdown",
   "id": "5fde9b2d",
   "metadata": {},
   "source": [
    "¡Ahora ejecuta la predicción! Cuando establecemos `profile=True`, la función cronometra la inferencia e imprime un resumen además de devolver la información de perfilado. También guardamos la salida en un archivo para poder realizar alguna validación."
   ]
  },
  {
   "cell_type": "code",
   "execution_count": null,
   "id": "1fd6dee7",
   "metadata": {},
   "outputs": [],
   "source": [
    "y_hw, latency, throughput = nn.predict(X_test, profile=True)"
   ]
  },
  {
   "cell_type": "markdown",
   "id": "1983e7d7",
   "metadata": {},
   "source": [
    "Un ejemplo de impresión se vería así:\n",
    "\n",
    "```\n",
    "Clasificados 166000 muestras en 0.402568 segundos (412352.6956936468 inferencias / s)\n",
    "```\n",
    "\n",
    "Ahora guardemos la salida y transfiramos esto de vuelta al host."
   ]
  },
  {
   "cell_type": "code",
   "execution_count": null,
   "id": "981ffced",
   "metadata": {},
   "outputs": [],
   "source": [
    "np.save('y_hw.npy', y_hw)"
   ]
  },
  {
   "cell_type": "markdown",
   "id": "b9e92d1e",
   "metadata": {},
   "source": [
    "Ahora, vuelve al host y sigue con `part7c_validation.ipynb`."
   ]
  }
 ],
 "metadata": {
  "kernelspec": {
   "display_name": "Python 3 (ipykernel)",
   "language": "python",
   "name": "python3"
  },
  "language_info": {
   "codemirror_mode": {
    "name": "ipython",
    "version": 3
   },
   "file_extension": ".py",
   "mimetype": "text/x-python",
   "name": "python",
   "nbconvert_exporter": "python",
   "pygments_lexer": "ipython3",
   "version": "3.10.4"
  }
 },
 "nbformat": 4,
 "nbformat_minor": 5
}
